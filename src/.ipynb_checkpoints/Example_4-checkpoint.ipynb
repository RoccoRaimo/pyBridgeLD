{
 "cells": [
  {
   "cell_type": "markdown",
   "id": "bdcdd2ad-4db4-4793-9330-53f4c7f23b97",
   "metadata": {},
   "source": [
    "# Example n.4\n",
    "## Load Distribution with GMB theory\n",
    "\n",
    "The cross section of bridge is represented by 8 independent beams, supposed connected with infinite number of transversal diaphragms. The load configuration consists of the Load Model 1 scheme of Eurocode, so 3 lanes and remaining area is considered.\n"
   ]
  },
  {
   "cell_type": "code",
   "execution_count": 1,
   "id": "f298455b-45ac-49ca-b813-19ba5f3746a0",
   "metadata": {},
   "outputs": [],
   "source": [
    "#Basic import of the package\n",
    "import pyBridgeLD as pybld"
   ]
  },
  {
   "cell_type": "markdown",
   "id": "ef0dcbc1-bc64-4f4d-905c-3247c3e096c9",
   "metadata": {},
   "source": [
    "## Definition of bridge geometry with the module `geometry`\n",
    "The parameters to consider are:\n",
    "- cw_width: width of carriageway\n",
    "- n_beams: number of beams\n",
    "- beam_spacing: spacing between beams, supposed constant\n",
    "- beam_cantilever_right: lenght of cantilever for the right side of deck (0 as default)\n",
    "- beam_cantilever_left: lenght of cantilever for the left side of deck (0 as default)\n",
    "- beam_length: beam total length\n",
    "- n_diaph: number of internal transversal diaphragms, the external diaphragms near supports are not considered (3 as default)\n",
    "- diaph_spacing: longitudinal spacing between diaphragms, supposed constant (0 as default)\n",
    "\n",
    "Since we are analyzing the load distribution with Courbon theory, the beam length, the number of transversal diaphragms and the diaphragm spacing are not necessary and so they'll be considered as per default."
   ]
  },
  {
   "cell_type": "code",
   "execution_count": 2,
   "id": "defad783-e10f-4874-8e6a-8e55a7658c9d",
   "metadata": {},
   "outputs": [
    {
     "data": {
      "text/plain": [
       "Bridge_configuration(cw_width=11.5, n_beams=11, beam_spacing=1.0, beam_cantilever_right=0.0, beam_cantilever_left=0.0, beam_length=22.3, n_diaph=2, diaph_spacing=22.3)"
      ]
     },
     "execution_count": 2,
     "metadata": {},
     "output_type": "execute_result"
    }
   ],
   "source": [
    "bridge_geometry = pybld.geometry.Bridge_configuration(cw_width=11.50, n_beams=11, beam_spacing=1.00, beam_cantilever_left=0.0,beam_cantilever_right=0.00, beam_length=22.30, n_diaph=2, diaph_spacing=22.30)\n",
    "bridge_geometry"
   ]
  },
  {
   "cell_type": "markdown",
   "id": "f9874111-3bb7-4d43-b7ff-d8c29f57ba6f",
   "metadata": {},
   "source": [
    "With the definition of geometry parameters, a property class `beam_distance` representing the distances of i-th beam related to the centerline of bridge cross section could be defined."
   ]
  },
  {
   "cell_type": "code",
   "execution_count": 3,
   "id": "ddc64371",
   "metadata": {},
   "outputs": [
    {
     "data": {
      "text/plain": [
       "[-5.0, -4.0, -3.0, -2.0, -1.0, -0.0, 1.0, 2.0, 3.0, 4.0, 5.0]"
      ]
     },
     "execution_count": 3,
     "metadata": {},
     "output_type": "execute_result"
    }
   ],
   "source": [
    "distance = bridge_geometry.beam_distance\n",
    "distance"
   ]
  },
  {
   "cell_type": "markdown",
   "id": "7b4f6720-60a6-402b-8a3a-c82aeaba3904",
   "metadata": {},
   "source": [
    "## Definition of vehicle and load configuration with the module `traffic_load`\n",
    "For the definition of the **vehicle** the parameters to consider are:\n",
    "- veh_width: Width of the vehicle\n",
    "- veh_load_conc: A list of all the concentrated loads for the considered vehicle\n",
    "- veh_load_conc_spacing: A list of all the spacing between the concentrated loads, referred to the middle of vehicle\n",
    "- veh_load_dist: Distributed load value for the considered vehicle (0 as default)\n",
    "\n",
    "For the definition of the **traffic load configuration** the parameters to consider are:\n",
    "- veh_list: A list of pre-defined Vehicle objects\n",
    "- veh_ecc: A list of the Vehicle's eccentricity, measured from the middle of vehicle to the centerline of cross section\n",
    "\n",
    "Four different vehicles are defined: one for every lane and a vehicle for the remaining area of loading. "
   ]
  },
  {
   "cell_type": "code",
   "execution_count": 4,
   "id": "1d9fc49f-ea0e-431d-a19b-35080fb3562c",
   "metadata": {},
   "outputs": [],
   "source": [
    "lane1 = pybld.traffic_load.Vehicle(veh_width= 3.00, veh_load_conc=[300, 300], veh_load_conc_spacing=[2.00],veh_load_dist=9)\n",
    "lane2 = pybld.traffic_load.Vehicle(veh_width= 3.00, veh_load_conc=[200, 200], veh_load_conc_spacing=[2.00],veh_load_dist=2.5)\n",
    "lane3 = pybld.traffic_load.Vehicle(veh_width= 3.00, veh_load_conc=[100, 100], veh_load_conc_spacing=[2.00],veh_load_dist=2.5)\n",
    "lane_remaining = pybld.traffic_load.Vehicle(veh_width= 11.00, veh_load_conc=[0], veh_load_conc_spacing=[0],veh_load_dist=2.5)"
   ]
  },
  {
   "cell_type": "markdown",
   "id": "c43dfe1d-3efd-4bdd-8ea9-7d11d899d543",
   "metadata": {},
   "source": [
    "Combining these vehicle definitions in a list it is possible to define a traffic load configuration."
   ]
  },
  {
   "cell_type": "code",
   "execution_count": 5,
   "id": "88eb1ef4-6335-4a94-84ad-198212d6d28a",
   "metadata": {},
   "outputs": [
    {
     "data": {
      "text/plain": [
       "TL_configuration(veh_list=[Vehicle(veh_width=3.0, veh_load_conc=[300, 300], veh_load_conc_spacing=[2.0], veh_load_dist=9)], veh_ecc=[5.75])"
      ]
     },
     "execution_count": 5,
     "metadata": {},
     "output_type": "execute_result"
    }
   ],
   "source": [
    "traffic_load_configuration = pybld.traffic_load.TL_configuration(veh_list=[lane1], veh_ecc=[+5.75])\n",
    "traffic_load_configuration"
   ]
  },
  {
   "cell_type": "markdown",
   "id": "2305917c-73bf-4f5a-ac26-f034e50f8b23",
   "metadata": {},
   "source": [
    "## Results of load distribution with the module `load_distribution`\n",
    "Using a class named `LoadDistribution` bridge geometry and traffic load configuration previously defined could be passed as arguments\n"
   ]
  },
  {
   "cell_type": "code",
   "execution_count": 6,
   "id": "fb9ee622-8897-48c5-a75c-d9d1bbc53c0e",
   "metadata": {},
   "outputs": [
    {
     "data": {
      "text/plain": [
       "LoadDistribution(cs=Bridge_configuration(cw_width=11.5, n_beams=11, beam_spacing=1.0, beam_cantilever_right=0.0, beam_cantilever_left=0.0, beam_length=22.3, n_diaph=2, diaph_spacing=22.3), tl_config=TL_configuration(veh_list=[Vehicle(veh_width=3.0, veh_load_conc=[300, 300], veh_load_conc_spacing=[2.0], veh_load_dist=9)], veh_ecc=[5.75]))"
      ]
     },
     "execution_count": 6,
     "metadata": {},
     "output_type": "execute_result"
    }
   ],
   "source": [
    "load_distribution = pybld.load_distribution.LoadDistribution(cs = bridge_geometry, tl_config = traffic_load_configuration)\n",
    "load_distribution"
   ]
  },
  {
   "cell_type": "markdown",
   "id": "38891098-0405-4cc4-a13e-79c34abb755c",
   "metadata": {},
   "source": [
    "### Analytical results\n",
    "Using the method `courbon` of the `load_distribution` class a list containing the following results can be obtained:\n",
    "\n",
    "[resultant, ki_conc , ki_dist, resultant_conc, resultant_dist]\n",
    "\n",
    "- resultant: a list of total vertical reaction force and moment for concentrated and distributed loads\n",
    "- ki_conc: repartition coefficient for i-th beam referred to concentrated loads\n",
    "- ki_dist: repartition coefficient for i-th beam referred to distributed loads\n",
    "- resultant_conc: resultant vertical force for i-th beam referred to concentrated loads\n",
    "- resultant_dist: resultant vertical distributed load for i-th beam referred to distributed loads"
   ]
  },
  {
   "cell_type": "code",
   "execution_count": 7,
   "id": "1a837b97-999c-4a7c-b025-f048c5ca7d6b",
   "metadata": {},
   "outputs": [
    {
     "data": {
      "text/html": [
       "<div>\n",
       "<style scoped>\n",
       "    .dataframe tbody tr th:only-of-type {\n",
       "        vertical-align: middle;\n",
       "    }\n",
       "\n",
       "    .dataframe tbody tr th {\n",
       "        vertical-align: top;\n",
       "    }\n",
       "\n",
       "    .dataframe thead th {\n",
       "        text-align: right;\n",
       "    }\n",
       "</style>\n",
       "<table border=\"1\" class=\"dataframe\">\n",
       "  <thead>\n",
       "    <tr style=\"text-align: right;\">\n",
       "      <th></th>\n",
       "      <th>1</th>\n",
       "      <th>2</th>\n",
       "      <th>3</th>\n",
       "      <th>4</th>\n",
       "      <th>5</th>\n",
       "      <th>6</th>\n",
       "      <th>7</th>\n",
       "      <th>8</th>\n",
       "      <th>9</th>\n",
       "      <th>10</th>\n",
       "      <th>11</th>\n",
       "    </tr>\n",
       "  </thead>\n",
       "  <tbody>\n",
       "    <tr>\n",
       "      <th>dist_load_1</th>\n",
       "      <td>-0.421357</td>\n",
       "      <td>-0.237700</td>\n",
       "      <td>-0.051535</td>\n",
       "      <td>0.153996</td>\n",
       "      <td>0.395952</td>\n",
       "      <td>0.690324</td>\n",
       "      <td>1.050175</td>\n",
       "      <td>1.483098</td>\n",
       "      <td>1.987932</td>\n",
       "      <td>2.550678</td>\n",
       "      <td>3.139872</td>\n",
       "    </tr>\n",
       "    <tr>\n",
       "      <th>dist_load_2</th>\n",
       "      <td>-0.833750</td>\n",
       "      <td>-0.646710</td>\n",
       "      <td>-0.470667</td>\n",
       "      <td>-0.273821</td>\n",
       "      <td>-0.022378</td>\n",
       "      <td>0.319332</td>\n",
       "      <td>0.787776</td>\n",
       "      <td>1.418091</td>\n",
       "      <td>2.240807</td>\n",
       "      <td>3.277297</td>\n",
       "      <td>4.533912</td>\n",
       "    </tr>\n",
       "    <tr>\n",
       "      <th>conc_load_1</th>\n",
       "      <td>-0.613467</td>\n",
       "      <td>-0.433774</td>\n",
       "      <td>-0.256231</td>\n",
       "      <td>-0.057262</td>\n",
       "      <td>0.188019</td>\n",
       "      <td>0.505031</td>\n",
       "      <td>0.918188</td>\n",
       "      <td>1.448503</td>\n",
       "      <td>2.110244</td>\n",
       "      <td>2.906550</td>\n",
       "      <td>3.823950</td>\n",
       "    </tr>\n",
       "  </tbody>\n",
       "</table>\n",
       "</div>"
      ],
      "text/plain": [
       "                   1         2         3         4         5         6   \\\n",
       "dist_load_1 -0.421357 -0.237700 -0.051535  0.153996  0.395952  0.690324   \n",
       "dist_load_2 -0.833750 -0.646710 -0.470667 -0.273821 -0.022378  0.319332   \n",
       "conc_load_1 -0.613467 -0.433774 -0.256231 -0.057262  0.188019  0.505031   \n",
       "\n",
       "                   7         8         9         10        11  \n",
       "dist_load_1  1.050175  1.483098  1.987932  2.550678  3.139872  \n",
       "dist_load_2  0.787776  1.418091  2.240807  3.277297  4.533912  \n",
       "conc_load_1  0.918188  1.448503  2.110244  2.906550  3.823950  "
      ]
     },
     "execution_count": 7,
     "metadata": {},
     "output_type": "execute_result"
    }
   ],
   "source": [
    "load_distribution.gmb(E=[32308, 32308], nu=0.2, I_l=[0.11375171, 0.10382507], I_t=[0.00510383, 0.01228304])"
   ]
  },
  {
   "cell_type": "markdown",
   "id": "32b299ad-40fd-4c26-b5de-d37328f1d744",
   "metadata": {},
   "source": [
    "### Graphic results\n",
    "\n",
    "Using the method `courbon_plot` of the `load_distribution` class a plot of the i-th repartition coefficient can be shown"
   ]
  }
 ],
 "metadata": {
  "kernelspec": {
   "display_name": "pfse",
   "language": "python",
   "name": "pfse"
  },
  "language_info": {
   "codemirror_mode": {
    "name": "ipython",
    "version": 3
   },
   "file_extension": ".py",
   "mimetype": "text/x-python",
   "name": "python",
   "nbconvert_exporter": "python",
   "pygments_lexer": "ipython3",
   "version": "3.10.14"
  }
 },
 "nbformat": 4,
 "nbformat_minor": 5
}
