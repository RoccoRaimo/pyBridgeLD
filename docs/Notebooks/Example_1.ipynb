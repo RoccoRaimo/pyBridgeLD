{
 "cells": [
  {
   "cell_type": "code",
   "execution_count": 1,
   "id": "c9c89dc1-9202-4fa8-b6b9-1b2e84879e3b",
   "metadata": {},
   "outputs": [],
   "source": [
    "import geometry as geom\n",
    "import traffic_load as tl\n",
    "import load_distribution as ld"
   ]
  },
  {
   "cell_type": "code",
   "execution_count": 2,
   "id": "defad783-e10f-4874-8e6a-8e55a7658c9d",
   "metadata": {},
   "outputs": [
    {
     "data": {
      "text/plain": [
       "Bridge_cross_section(cw_width=10, n_beams=4, beam_spacing=2.4, beam_cantilever_right=1.2, beam_cantilever_left=1.2)"
      ]
     },
     "execution_count": 2,
     "metadata": {},
     "output_type": "execute_result"
    }
   ],
   "source": [
    "geom = geom.Bridge_cross_section(cw_width=10, n_beams=4, beam_spacing=2.40, beam_cantilever_left=1.20,beam_cantilever_right=1.20)\n",
    "geom"
   ]
  },
  {
   "cell_type": "code",
   "execution_count": 3,
   "id": "ddc64371",
   "metadata": {},
   "outputs": [
    {
     "name": "stdout",
     "output_type": "stream",
     "text": [
      "2\n"
     ]
    },
    {
     "data": {
      "text/plain": [
       "[-3.6, -1.2, -1.2, -3.6]"
      ]
     },
     "execution_count": 3,
     "metadata": {},
     "output_type": "execute_result"
    }
   ],
   "source": [
    "distance = geom.beam_distance()\n",
    "distance"
   ]
  },
  {
   "cell_type": "code",
   "execution_count": 4,
   "id": "1d9fc49f-ea0e-431d-a19b-35080fb3562c",
   "metadata": {},
   "outputs": [
    {
     "data": {
      "text/plain": [
       "Vehicle(veh_width=10, veh_load_conc=[1, 1], veh_load_dist=0)"
      ]
     },
     "execution_count": 4,
     "metadata": {},
     "output_type": "execute_result"
    }
   ],
   "source": [
    "vehicle1 = tl.Vehicle(veh_load_conc=[1,1], veh_width= 10)\n",
    "vehicle1"
   ]
  }
 ],
 "metadata": {
  "kernelspec": {
   "display_name": "Python 3.10 (pfse)",
   "language": "python",
   "name": "pfse"
  },
  "language_info": {
   "codemirror_mode": {
    "name": "ipython",
    "version": 3
   },
   "file_extension": ".py",
   "mimetype": "text/x-python",
   "name": "python",
   "nbconvert_exporter": "python",
   "pygments_lexer": "ipython3",
   "version": "3.11.7"
  }
 },
 "nbformat": 4,
 "nbformat_minor": 5
}
